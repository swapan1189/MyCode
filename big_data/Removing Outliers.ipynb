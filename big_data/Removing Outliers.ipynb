{
 "cells": [
  {
   "cell_type": "code",
   "execution_count": 22,
   "metadata": {},
   "outputs": [
    {
     "name": "stdout",
     "output_type": "stream",
     "text": [
      "[[5.07793064]]\n",
      "0.8782624703664671\n"
     ]
    },
    {
     "data": {
      "image/png": "[encoded data removed]",
      "text/plain": [
       "<Figure size 432x288 with 1 Axes>"
      ]
     },
     "metadata": {},
     "output_type": "display_data"
    },
    {
     "name": "stdout",
     "output_type": "stream",
     "text": [
      "test3\n",
      "test2\n",
      "test\n"
     ]
    },
    {
     "data": {
      "image/png": "[encoded data removed]",
      "text/plain": [
       "<Figure size 432x288 with 1 Axes>"
      ]
     },
     "metadata": {},
     "output_type": "display_data"
    },
    {
     "name": "stdout",
     "output_type": "stream",
     "text": [
      "[[6.38302395]]\n",
      "0.9836232197314149\n"
     ]
    }
   ],
   "source": [
    "# %load outlier_removal_regression.py\n",
    "#!/usr/bin/python\n",
    "\n",
    "def outlierCleaner(predictions, ages, net_worths):\n",
    "    \"\"\"\n",
    "        Clean away the 10% of points that have the largest\n",
    "        residual errors (difference between the prediction\n",
    "        and the actual net worth).\n",
    "\n",
    "        Return a list of tuples named cleaned_data where \n",
    "        each tuple is of the form (age, net_worth, error).\n",
    "    \"\"\"\n",
    "    print 'test3'\n",
    "    cleaned_data = []\n",
    "\n",
    "    ### your code goes here\n",
    "    \n",
    "    list1 = []\n",
    "    for i in range(len(predictions)):\n",
    "        error = abs(predictions[i][0] - net_worths[i][0])\n",
    "        list1.append(tuple((ages[i][0],net_worths[i][0],error)))\n",
    "    \n",
    "    list1.sort(key=lambda x: x[2],reverse=True)  \n",
    "    #sorted(list1, key=lambda x: x[2],reverse=True)\n",
    "    \n",
    "    leng = len(predictions)/10\n",
    "    \n",
    "    cleaned_data = list1[leng-1:]\n",
    "    print 'test2'\n",
    "    return cleaned_data\n",
    "\n",
    "\n",
    "import random\n",
    "import numpy\n",
    "import matplotlib.pyplot as plt\n",
    "import pickle\n",
    "%matplotlib inline  \n",
    "\n",
    "#from outlier_cleaner import outlierCleaner\n",
    "\n",
    "\n",
    "\n",
    "### load up some practice data with outliers in it\n",
    "ages = pickle.load( open(\"practice_outliers_ages.pkl\", \"r\") )\n",
    "net_worths = pickle.load( open(\"practice_outliers_net_worths.pkl\", \"r\") )\n",
    "\n",
    "\n",
    "\n",
    "### ages and net_worths need to be reshaped into 2D numpy arrays\n",
    "### second argument of reshape command is a tuple of integers: (n_rows, n_columns)\n",
    "### by convention, n_rows is the number of data points\n",
    "### and n_columns is the number of features\n",
    "ages       = numpy.reshape( numpy.array(ages), (len(ages), 1))\n",
    "net_worths = numpy.reshape( numpy.array(net_worths), (len(net_worths), 1))\n",
    "from sklearn.cross_validation import train_test_split\n",
    "ages_train, ages_test, net_worths_train, net_worths_test = train_test_split(ages, net_worths, test_size=0.1, random_state=42)\n",
    "\n",
    "### fill in a regression here!  Name the regression object reg so that\n",
    "### the plotting code below works, and you can see what your regression looks like\n",
    "\n",
    "\n",
    "from sklearn import linear_model\n",
    "reg = linear_model.LinearRegression()\n",
    "reg.fit(ages_train,net_worths_train)\n",
    "\n",
    "print reg.coef_\n",
    "\n",
    "print reg.score(ages_test,net_worths_test)\n",
    "\n",
    "try:\n",
    "    plt.plot(ages, reg.predict(ages), color=\"blue\")\n",
    "except NameError:\n",
    "    pass\n",
    "plt.scatter(ages, net_worths)\n",
    "plt.show()\n",
    "\n",
    "\n",
    "### identify and remove the most outlier-y points\n",
    "cleaned_data = []\n",
    "try:\n",
    "    predictions = reg.predict(ages_train)\n",
    "    cleaned_data = outlierCleaner( predictions, ages_train, net_worths_train )\n",
    "    print 'test'\n",
    "    #print predictions\n",
    "except NameError:\n",
    "    print \"your regression object doesn't exist, or isn't name reg\"\n",
    "    print \"can't make predictions to use in identifying outliers\"\n",
    "\n",
    "\n",
    "\n",
    "\n",
    "\n",
    "\n",
    "\n",
    "### only run this code if cleaned_data is returning data\n",
    "if len(cleaned_data) > 0:\n",
    "    ages, net_worths, errors = zip(*cleaned_data)\n",
    "    ages       = numpy.reshape( numpy.array(ages), (len(ages), 1))\n",
    "    net_worths = numpy.reshape( numpy.array(net_worths), (len(net_worths), 1))\n",
    "\n",
    "    ### refit your cleaned data!\n",
    "    try:\n",
    "        reg.fit(ages, net_worths)\n",
    "        plt.plot(ages, reg.predict(ages), color=\"blue\")\n",
    "    except NameError:\n",
    "        print \"you don't seem to have regression imported/created,\"\n",
    "        print \"   or else your regression object isn't named reg\"\n",
    "        print \"   either way, only draw the scatter plot of the cleaned data\"\n",
    "    plt.scatter(ages, net_worths)\n",
    "    plt.xlabel(\"ages\")\n",
    "    plt.ylabel(\"net worths\")\n",
    "    plt.show()\n",
    "\n",
    "\n",
    "else:\n",
    "    print \"outlierCleaner() is returning an empty list, no refitting to be done\"\n",
    "\n",
    "    \n",
    "    \n",
    "print reg.coef_\n",
    "print reg.score(ages_test,net_worths_test)\n"
   ]
  },
  {
   "cell_type": "code",
   "execution_count": 11,
   "metadata": {},
   "outputs": [
    {
     "data": {
      "text/plain": [
       "9"
      ]
     },
     "execution_count": 11,
     "metadata": {},
     "output_type": "execute_result"
    }
   ],
   "source": [
    "leng = 90/10\n",
    "leng"
   ]
  },
  {
   "cell_type": "code",
   "execution_count": null,
   "metadata": {},
   "outputs": [],
   "source": []
  },
  {
   "cell_type": "code",
   "execution_count": 3,
   "metadata": {},
   "outputs": [],
   "source": [
    "# %load outlier_cleaner.py\n",
    "#!/usr/bin/python\n",
    "\n",
    "\n",
    "def outlierCleaner(predictions, ages, net_worths):\n",
    "    \"\"\"\n",
    "        Clean away the 10% of points that have the largest\n",
    "        residual errors (difference between the prediction\n",
    "        and the actual net worth).\n",
    "\n",
    "        Return a list of tuples named cleaned_data where \n",
    "        each tuple is of the form (age, net_worth, error).\n",
    "    \"\"\"\n",
    "    \n",
    "    cleaned_data = []\n",
    "\n",
    "    ### your code goes here\n",
    "    \n",
    "    list1 = []\n",
    "    for i in len(predictions):\n",
    "        error = abs(predictions[i][0] - net_worths[i][0])\n",
    "        list1.append(tuple((ages[i][0],net_worth[i][0],error)))\n",
    "    \n",
    "    sorted(list1, key=lambda x: x[2],reverse=True)\n",
    "    \n",
    "    leng = len(predictions)/10\n",
    "    \n",
    "    cleaned_data = list1[leng-1:]\n",
    "    \n",
    "    return cleaned_data\n",
    "\n"
   ]
  },
  {
   "cell_type": "code",
   "execution_count": null,
   "metadata": {},
   "outputs": [],
   "source": []
  },
  {
   "cell_type": "code",
   "execution_count": 49,
   "metadata": {},
   "outputs": [
    {
     "data": {
      "image/png": "[encoded data removed]",
      "text/plain": [
       "<Figure size 432x288 with 1 Axes>"
      ]
     },
     "metadata": {},
     "output_type": "display_data"
    },
    {
     "name": "stdout",
     "output_type": "stream",
     "text": [
      "TOTAL 26704229\n"
     ]
    },
    {
     "data": {
      "text/plain": [
       "Text(0,0.5,'bonus')"
      ]
     },
     "execution_count": 49,
     "metadata": {},
     "output_type": "execute_result"
    },
    {
     "data": {
      "image/png": "[encoded data removed]",
      "text/plain": [
       "<Figure size 432x288 with 1 Axes>"
      ]
     },
     "metadata": {},
     "output_type": "display_data"
    }
   ],
   "source": [
    "# %load enron_outliers.py\n",
    "#!/usr/bin/python\n",
    "\n",
    "import pickle\n",
    "import sys\n",
    "import matplotlib.pyplot\n",
    "%matplotlib inline\n",
    "sys.path.append(\"../tools/\")\n",
    "from feature_format import featureFormat, targetFeatureSplit\n",
    "\n",
    "\n",
    "### read in data dictionary, convert to numpy array\n",
    "data_dict = pickle.load( open(\"../final_project/final_project_dataset.pkl\", \"r\") )\n",
    "features = [\"salary\", \"bonus\"]\n",
    "\n",
    "data = featureFormat(data_dict, features)\n",
    "\n",
    "\n",
    "### your code below\n",
    "\n",
    "\n",
    "\n",
    "for point in data:\n",
    "    salary = point[0]\n",
    "    bonus = point[1]\n",
    "    matplotlib.pyplot.scatter( salary, bonus )\n",
    "\n",
    "matplotlib.pyplot.xlabel(\"salary\")\n",
    "matplotlib.pyplot.ylabel(\"bonus\")\n",
    "matplotlib.pyplot.show()\n",
    "\n",
    "#print data.shape\n",
    "\n",
    "\n",
    "salary = 0\n",
    "name = []\n",
    "data_keys = data_dict.keys()\n",
    "data_values = data_dict.values()\n",
    "#print data_keys\n",
    "#print len(data_keys)\n",
    "for i in range(len(data_keys)):\n",
    "    if data_values[i][\"salary\"] > salary and data_values[i][\"salary\"] <> 'NaN':\n",
    "        name = data_keys[i]\n",
    "        salary = data_values[i][\"salary\"]\n",
    "\n",
    "print name, salary\n",
    "\n",
    "#for i in range(len(data_keys)):\n",
    "#    if data_values[i]['salary']<>'NaN' and data_values[i]['bonus']<>'NaN':\n",
    "#        if data_values[i]['salary']==max(data,key=lambda x: x[0])[0] and data_values[i]['bonus']==max(data,key=lambda x: x[0])[1]:\n",
    "#            print data_keys[i]    #the outlier key\n",
    "\n",
    "\n",
    "data_dict.pop('TOTAL',0)\n",
    "\n",
    "data = featureFormat(data_dict, features)\n",
    "\n",
    "for point in data:\n",
    "    salary = point[0]\n",
    "    bonus = point[1]\n",
    "    matplotlib.pyplot.scatter( salary, bonus )\n",
    "\n",
    "matplotlib.pyplot.xlabel(\"salary\")\n",
    "matplotlib.pyplot.ylabel(\"bonus\")\n",
    "matplotlib.pyplot.show()\n",
    "\n",
    "#plt.scatter(data[:,0], data[:,1])\n",
    "#plt.xlabel(\"salary\")\n",
    "#plt.ylabel(\"bonus\")"
   ]
  },
  {
   "cell_type": "code",
   "execution_count": 53,
   "metadata": {},
   "outputs": [
    {
     "name": "stdout",
     "output_type": "stream",
     "text": [
      "[['LAY KENNETH L', 1072321, 7000000], ['SKILLING JEFFREY K', 1111258, 5600000]]\n"
     ]
    }
   ],
   "source": [
    "list1 = []\n",
    "#salary = []\n",
    "#name = []\n",
    "#bonus = []\n",
    "data_keys = data_dict.keys()\n",
    "data_values = data_dict.values()\n",
    "#print data_keys\n",
    "#print len(data_keys)\n",
    "for i in range(len(data_keys)):\n",
    "    if data_values[i][\"salary\"] > 1000000 and data_values[i][\"salary\"] <> 'NaN':\n",
    "        if data_values[i][\"bonus\"] > 5000000 and data_values[i][\"bonus\"] <> 'NaN':\n",
    "            #name.append(data_keys[i])\n",
    "            #salary.append(data_values[i][\"salary\"])\n",
    "            #bonus.append(data_values[i][\"bonus\"])\n",
    "            list1.append([data_keys[i],data_values[i][\"salary\"],data_values[i][\"bonus\"]])\n",
    "\n",
    "print list1"
   ]
  }
 ],
 "metadata": {
  "kernelspec": {
   "display_name": "Python 2",
   "language": "python",
   "name": "python2"
  },
  "language_info": {
   "codemirror_mode": {
    "name": "ipython",
    "version": 2
   },
   "file_extension": ".py",
   "mimetype": "text/x-python",
   "name": "python",
   "nbconvert_exporter": "python",
   "pygments_lexer": "ipython2",
   "version": "2.7.15"
  }
 },
 "nbformat": 4,
 "nbformat_minor": 2
}
